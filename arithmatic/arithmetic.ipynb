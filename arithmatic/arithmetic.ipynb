{
 "cells": [
  {
   "cell_type": "code",
   "execution_count": 1,
   "id": "9a606177-7f3c-4c16-9226-c95587f71fc8",
   "metadata": {},
   "outputs": [
    {
     "data": {
      "text/plain": [
       "27"
      ]
     },
     "execution_count": 1,
     "metadata": {},
     "output_type": "execute_result"
    }
   ],
   "source": [
    "5+6+4*4\n"
   ]
  },
  {
   "cell_type": "code",
   "execution_count": 9,
   "id": "e7f10044-ab50-4c8a-9aa3-9e8888ca0d49",
   "metadata": {},
   "outputs": [
    {
     "data": {
      "text/plain": [
       "0.0005274261603375527"
      ]
     },
     "execution_count": 9,
     "metadata": {},
     "output_type": "execute_result"
    }
   ],
   "source": [
    "3/5688\n"
   ]
  },
  {
   "cell_type": "code",
   "execution_count": 16,
   "id": "2d99242c-88b3-42c6-8ac8-5b467e2ee91a",
   "metadata": {},
   "outputs": [
    {
     "data": {
      "text/plain": [
       "1.75"
      ]
     },
     "execution_count": 16,
     "metadata": {},
     "output_type": "execute_result"
    }
   ],
   "source": [
    "1+ 3/4\n"
   ]
  },
  {
   "cell_type": "code",
   "execution_count": 14,
   "id": "cafff9c1-108d-41f0-bab7-c3d97ab9518b",
   "metadata": {},
   "outputs": [
    {
     "data": {
      "text/plain": [
       "1.0"
      ]
     },
     "execution_count": 14,
     "metadata": {},
     "output_type": "execute_result"
    }
   ],
   "source": [
    "(1+3)/4"
   ]
  },
  {
   "cell_type": "code",
   "execution_count": 27,
   "id": "4c887dd8-d4f0-49b4-afbd-ce2cf05194e0",
   "metadata": {},
   "outputs": [
    {
     "data": {
      "text/plain": [
       "16"
      ]
     },
     "execution_count": 27,
     "metadata": {},
     "output_type": "execute_result"
    }
   ],
   "source": [
    "x = 10 \n",
    "y = 6\n",
    "# x+y\n",
    "a = x+y\n",
    "a\n"
   ]
  },
  {
   "cell_type": "code",
   "execution_count": 55,
   "id": "cc1dcc42-2989-46f7-85b0-915b551be5c1",
   "metadata": {},
   "outputs": [
    {
     "data": {
      "text/plain": [
       "0.0"
      ]
     },
     "execution_count": 55,
     "metadata": {},
     "output_type": "execute_result"
    }
   ],
   "source": [
    "x = 7\n",
    "y = -2\n",
    "z = 5\n",
    "\n",
    "# 3*x*(4+y) \n",
    "-y-((x+3)/z) "
   ]
  },
  {
   "cell_type": "code",
   "execution_count": 15,
   "id": "edc6cc74-d7bd-437b-8df1-e3b171131c82",
   "metadata": {},
   "outputs": [
    {
     "data": {
      "text/plain": [
       "'4+3 = 7'"
      ]
     },
     "metadata": {},
     "output_type": "display_data"
    },
    {
     "data": {
      "text/plain": [
       "'4+3 = 7'"
      ]
     },
     "metadata": {},
     "output_type": "display_data"
    }
   ],
   "source": [
    "# from IPython.display import display, Math\n",
    "display('4+3 = 7')\n",
    "display('4+3 = ' + str(4+3))\n",
    "\n"
   ]
  },
  {
   "cell_type": "code",
   "execution_count": 37,
   "id": "63bfadb8-68cd-4e02-8129-7d927f1a3d5e",
   "metadata": {},
   "outputs": [
    {
     "data": {
      "text/latex": [
       "$\\displaystyle 4+3=7$"
      ],
      "text/plain": [
       "<IPython.core.display.Math object>"
      ]
     },
     "metadata": {},
     "output_type": "display_data"
    }
   ],
   "source": [
    "display(Math('4+3=7'))"
   ]
  },
  {
   "cell_type": "code",
   "execution_count": 44,
   "id": "5abca0f5-cee7-4de8-b16d-3cb169fdff5a",
   "metadata": {},
   "outputs": [
    {
     "data": {
      "text/latex": [
       "$\\displaystyle x+y$"
      ],
      "text/plain": [
       "<IPython.core.display.Math object>"
      ]
     },
     "metadata": {},
     "output_type": "display_data"
    }
   ],
   "source": [
    "x = 4\n",
    "y = 4\n",
    "display(Math(\"x+y\"))"
   ]
  },
  {
   "cell_type": "code",
   "execution_count": 9,
   "id": "85676378-4677-485f-b617-535c7d72c01f",
   "metadata": {},
   "outputs": [
    {
     "data": {
      "text/plain": [
       "'444 + 566 = 1010'"
      ]
     },
     "metadata": {},
     "output_type": "display_data"
    }
   ],
   "source": [
    "from IPython.display import display,Math\n",
    "display('444 + 566 = ' + str(444+566))"
   ]
  },
  {
   "cell_type": "code",
   "execution_count": 31,
   "id": "d9845617-6666-4f1f-af6b-ba6470e6db13",
   "metadata": {},
   "outputs": [
    {
     "data": {
      "text/latex": [
       "$\\displaystyle 1+1 = 2$"
      ],
      "text/plain": [
       "<IPython.core.display.Math object>"
      ]
     },
     "metadata": {},
     "output_type": "display_data"
    }
   ],
   "source": [
    "display(Math('1+1 = '+'' + str(1+1)))"
   ]
  },
  {
   "cell_type": "code",
   "execution_count": 60,
   "id": "a29fa9d9-858b-4193-a238-fdc3351dd7c1",
   "metadata": {},
   "outputs": [
    {
     "data": {
      "text/latex": [
       "$\\displaystyle 4+5=9$"
      ],
      "text/plain": [
       "<IPython.core.display.Math object>"
      ]
     },
     "metadata": {},
     "output_type": "display_data"
    }
   ],
   "source": [
    "x = 4\n",
    "y = 5\n",
    "display(Math(str(x) + '+' + str(y) + '=' + str(x+y)))"
   ]
  },
  {
   "cell_type": "code",
   "execution_count": 62,
   "id": "c722d59d-26ab-45fb-8ac3-355e2d759337",
   "metadata": {},
   "outputs": [
    {
     "data": {
      "text/latex": [
       "$\\displaystyle 4+5 = 9$"
      ],
      "text/plain": [
       "<IPython.core.display.Math object>"
      ]
     },
     "metadata": {},
     "output_type": "display_data"
    }
   ],
   "source": [
    "display(Math('%g+%g = %g' %(x,y,x+y)))"
   ]
  },
  {
   "cell_type": "code",
   "execution_count": 64,
   "id": "7c690172-f1cc-4083-b1ea-818e53deca7d",
   "metadata": {},
   "outputs": [
    {
     "data": {
      "text/latex": [
       "$\\displaystyle 4/5 = .8$"
      ],
      "text/plain": [
       "<IPython.core.display.Math object>"
      ]
     },
     "metadata": {},
     "output_type": "display_data"
    },
    {
     "data": {
      "text/latex": [
       "$\\displaystyle \\frac{4}{5} = .8$"
      ],
      "text/plain": [
       "<IPython.core.display.Math object>"
      ]
     },
     "metadata": {},
     "output_type": "display_data"
    }
   ],
   "source": [
    "display(Math('4/5 = .8'))\n",
    "display(Math('\\\\frac{4}{5} = .8'))"
   ]
  },
  {
   "cell_type": "code",
   "execution_count": 66,
   "id": "566c0580-7128-44b3-a04a-ac28b075a935",
   "metadata": {},
   "outputs": [
    {
     "data": {
      "text/latex": [
       "$\\displaystyle 3.4 \\times 17 = 57.8$"
      ],
      "text/plain": [
       "<IPython.core.display.Math object>"
      ]
     },
     "metadata": {},
     "output_type": "display_data"
    }
   ],
   "source": [
    "x = 3.4\n",
    "y = 17\n",
    "display(Math('%g \\\\times %g = %g' %(x,y,x*y)))"
   ]
  },
  {
   "cell_type": "code",
   "execution_count": 82,
   "id": "a805e44f-268d-4586-b582-b248b936395f",
   "metadata": {},
   "outputs": [
    {
     "name": "stdout",
     "output_type": "stream",
     "text": [
      "This is the 3th iteration.\n",
      "This is the 4th iteration.\n"
     ]
    }
   ],
   "source": [
    "# powers in python\n",
    "arr = [1,2,3,4,5]\n",
    "for i in range(3,len(arr)):\n",
    "    print('This is the %gth iteration.'%i)"
   ]
  },
  {
   "cell_type": "code",
   "execution_count": 96,
   "id": "b5159a9f-7553-4762-a7b3-7bc55b329281",
   "metadata": {},
   "outputs": [
    {
     "name": "stdout",
     "output_type": "stream",
     "text": [
      "exponat of 0th iteration 1\n",
      "exponat of 1th iteration 2\n",
      "exponat of 2th iteration 4\n",
      "exponat of 3th iteration 8\n",
      "exponat of 4th iteration 16\n",
      "exponat of 5th iteration 32\n",
      "exponat of 6th iteration 64\n",
      "exponat of 7th iteration 128\n",
      "exponat of 8th iteration 256\n",
      "exponat of 9th iteration 512\n"
     ]
    }
   ],
   "source": [
    "for i in range(0,10):\n",
    "    num = 2**i\n",
    "    print('exponat of %gth iteration %g' %(i ,num))"
   ]
  },
  {
   "cell_type": "code",
   "execution_count": 1,
   "id": "ce264615-bee9-44d6-98e4-b9f9e59353ee",
   "metadata": {},
   "outputs": [
    {
     "data": {
      "text/plain": [
       "False"
      ]
     },
     "execution_count": 1,
     "metadata": {},
     "output_type": "execute_result"
    }
   ],
   "source": [
    "5>6\n"
   ]
  },
  {
   "cell_type": "code",
   "execution_count": 3,
   "id": "e8e79cad-90b9-4365-b1e5-023c9051e332",
   "metadata": {},
   "outputs": [
    {
     "data": {
      "text/plain": [
       "False"
      ]
     },
     "execution_count": 3,
     "metadata": {},
     "output_type": "execute_result"
    }
   ],
   "source": [
    "6<5\n"
   ]
  },
  {
   "cell_type": "code",
   "execution_count": 5,
   "id": "622d1aa8-e1bd-431f-941c-57b8de6024fa",
   "metadata": {},
   "outputs": [
    {
     "data": {
      "text/plain": [
       "False"
      ]
     },
     "execution_count": 5,
     "metadata": {},
     "output_type": "execute_result"
    }
   ],
   "source": [
    "6>6\n"
   ]
  },
  {
   "cell_type": "code",
   "execution_count": 7,
   "id": "003cf304-bb57-4265-b36a-90c4361dc69a",
   "metadata": {},
   "outputs": [
    {
     "data": {
      "text/plain": [
       "False"
      ]
     },
     "execution_count": 7,
     "metadata": {},
     "output_type": "execute_result"
    }
   ],
   "source": [
    "6<5"
   ]
  },
  {
   "cell_type": "code",
   "execution_count": 9,
   "id": "ef916d3d-6cc5-424b-93f9-f9079b1a421b",
   "metadata": {},
   "outputs": [
    {
     "data": {
      "text/plain": [
       "True"
      ]
     },
     "execution_count": 9,
     "metadata": {},
     "output_type": "execute_result"
    }
   ],
   "source": [
    "6>5"
   ]
  },
  {
   "cell_type": "code",
   "execution_count": 1,
   "id": "acd45b49-2379-41f5-8c9f-bf19c54b65ec",
   "metadata": {},
   "outputs": [
    {
     "data": {
      "text/plain": [
       "6"
      ]
     },
     "execution_count": 1,
     "metadata": {},
     "output_type": "execute_result"
    }
   ],
   "source": [
    "abs(-6)"
   ]
  },
  {
   "cell_type": "code",
   "execution_count": 3,
   "id": "6cce6509-cc51-4fe7-a3be-a8f50cd283d8",
   "metadata": {},
   "outputs": [
    {
     "data": {
      "text/latex": [
       "$\\displaystyle |-4.3| = 4.3$"
      ],
      "text/plain": [
       "<IPython.core.display.Math object>"
      ]
     },
     "metadata": {},
     "output_type": "display_data"
    }
   ],
   "source": [
    "from IPython.display import display, Math\n",
    "x = -4.3\n",
    "display(Math(\"|%g| = %g\" %(x,abs(x))))"
   ]
  },
  {
   "cell_type": "code",
   "execution_count": 5,
   "id": "c704b5bb-451c-447a-a2ad-403a2bc29211",
   "metadata": {},
   "outputs": [
    {
     "data": {
      "text/plain": [
       "3"
      ]
     },
     "execution_count": 5,
     "metadata": {},
     "output_type": "execute_result"
    }
   ],
   "source": [
    "a = 10\n",
    "b = 3\n",
    "a//b"
   ]
  },
  {
   "cell_type": "code",
   "execution_count": 7,
   "id": "4c228464-7bac-4b6c-8600-2fb39ec254f8",
   "metadata": {},
   "outputs": [
    {
     "data": {
      "text/plain": [
       "1"
      ]
     },
     "execution_count": 7,
     "metadata": {},
     "output_type": "execute_result"
    }
   ],
   "source": [
    "a%b"
   ]
  },
  {
   "cell_type": "code",
   "execution_count": 22,
   "id": "39345592-51f1-4500-b357-ac1a3e45c318",
   "metadata": {},
   "outputs": [
    {
     "data": {
      "text/latex": [
       "$\\displaystyle 2^{10} = 1024$"
      ],
      "text/plain": [
       "<IPython.core.display.Math object>"
      ]
     },
     "metadata": {},
     "output_type": "display_data"
    }
   ],
   "source": [
    "def powers(x,y):\n",
    "    return display(Math('%g^{%g} = %g' %(x,y,x**y)))\n",
    "powers(2,10)"
   ]
  },
  {
   "cell_type": "code",
   "execution_count": null,
   "id": "680c26d7-2461-4280-8813-afeda1861ed9",
   "metadata": {},
   "outputs": [],
   "source": []
  },
  {
   "cell_type": "code",
   "execution_count": null,
   "id": "b5ff151e-1800-4cc0-9c52-7bef00577aa4",
   "metadata": {},
   "outputs": [],
   "source": []
  }
 ],
 "metadata": {
  "kernelspec": {
   "display_name": "Python 3 (ipykernel)",
   "language": "python",
   "name": "python3"
  },
  "language_info": {
   "codemirror_mode": {
    "name": "ipython",
    "version": 3
   },
   "file_extension": ".py",
   "mimetype": "text/x-python",
   "name": "python",
   "nbconvert_exporter": "python",
   "pygments_lexer": "ipython3",
   "version": "3.12.4"
  }
 },
 "nbformat": 4,
 "nbformat_minor": 5
}
