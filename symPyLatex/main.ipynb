{
 "cells": [
  {
   "cell_type": "code",
   "execution_count": 65,
   "id": "385ada59-0ec4-4985-b300-f03ac27e2e07",
   "metadata": {},
   "outputs": [],
   "source": [
    "import sympy as sym\n",
    "from IPython.display import display\n",
    "import numpy as np\n",
    "\n"
   ]
  },
  {
   "cell_type": "code",
   "execution_count": 73,
   "id": "86739caa-2fac-436e-bb72-0f1fe4316e65",
   "metadata": {},
   "outputs": [
    {
     "data": {
      "image/png": "[encoded data removed]",
      "text/latex": [
       "$\\displaystyle x^{y}$"
      ],
      "text/plain": [
       " y\n",
       "x "
      ]
     },
     "execution_count": 73,
     "metadata": {},
     "output_type": "execute_result"
    }
   ],
   "source": [
    "x,y =sym.symbols(\"x,y\")\n",
    "y%x\n",
    "y+6\n",
    "x**y"
   ]
  },
  {
   "cell_type": "code",
   "execution_count": 87,
   "id": "703dd7e7-5208-41e4-9fad-d6c54c934f02",
   "metadata": {},
   "outputs": [
    {
     "data": {
      "image/png": "[encoded data removed]",
      "text/latex": [
       "$\\displaystyle \\left\\lfloor{\\frac{x}{y}}\\right\\rfloor$"
      ],
      "text/plain": [
       "⎢x⎥\n",
       "⎢─⎥\n",
       "⎣y⎦"
      ]
     },
     "execution_count": 87,
     "metadata": {},
     "output_type": "execute_result"
    }
   ],
   "source": [
    "x//y\n"
   ]
  },
  {
   "cell_type": "code",
   "execution_count": 77,
   "id": "5701d665-1b41-4405-be7d-c7e761630d01",
   "metadata": {},
   "outputs": [
    {
     "data": {
      "image/png": "[encoded data removed]",
      "text/latex": [
       "$\\displaystyle x^{y}$"
      ],
      "text/plain": [
       " y\n",
       "x "
      ]
     },
     "metadata": {},
     "output_type": "display_data"
    }
   ],
   "source": [
    "display(x**y)"
   ]
  },
  {
   "cell_type": "code",
   "execution_count": 85,
   "id": "ba905af7-6e2c-4fe2-ade1-1b34ae245096",
   "metadata": {},
   "outputs": [
    {
     "data": {
      "image/png": "[encoded data removed]",
      "text/latex": [
       "$\\displaystyle \\left\\lfloor{\\frac{x}{y}}\\right\\rfloor$"
      ],
      "text/plain": [
       "⎢x⎥\n",
       "⎢─⎥\n",
       "⎣y⎦"
      ]
     },
     "metadata": {},
     "output_type": "display_data"
    }
   ],
   "source": [
    "display(x//y)"
   ]
  },
  {
   "cell_type": "code",
   "execution_count": 146,
   "id": "b463461d-558c-4633-b44e-10263520454b",
   "metadata": {},
   "outputs": [
    {
     "data": {
      "image/png": "[encoded data removed]",
      "text/latex": [
       "$\\displaystyle 3.0$"
      ],
      "text/plain": [
       "3.0"
      ]
     },
     "metadata": {},
     "output_type": "display_data"
    },
    {
     "data": {
      "image/png": "[encoded data removed]",
      "text/latex": [
       "$\\displaystyle \\sqrt{5}$"
      ],
      "text/plain": [
       "√5"
      ]
     },
     "metadata": {},
     "output_type": "display_data"
    }
   ],
   "source": [
    "import numpy as np\n",
    "display(np.sqrt(9))\n",
    "display(sym.sqrt(5))"
   ]
  },
  {
   "cell_type": "code",
   "execution_count": 161,
   "id": "4beba24d-518a-4a28-875d-15f138882b2b",
   "metadata": {},
   "outputs": [
    {
     "data": {
      "image/png": "[encoded data removed]",
      "text/latex": [
       "$\\displaystyle y*(x^{2)}$"
      ],
      "text/plain": [
       "y*(x²⁾"
      ]
     },
     "execution_count": 161,
     "metadata": {},
     "output_type": "execute_result"
    }
   ],
   "source": [
    "# from IPython.display import sym\n",
    "\n",
    "sym.symbols('y*(x^2)')"
   ]
  },
  {
   "cell_type": "code",
   "execution_count": 175,
   "id": "bb8954c3-2c5d-475a-aafa-be7c82c2b0ba",
   "metadata": {},
   "outputs": [
    {
     "data": {
      "text/latex": [
       "$\\displaystyle 4+3=134$"
      ],
      "text/plain": [
       "<IPython.core.display.Math object>"
      ]
     },
     "metadata": {},
     "output_type": "display_data"
    }
   ],
   "source": [
    "# LaTex\n",
    "from IPython.display import display, Math\n",
    "display(Math('4+3=134'))"
   ]
  },
  {
   "cell_type": "markdown",
   "id": "04fa92e0-9bee-4e3e-8f1d-9b07ecdbf487",
   "metadata": {},
   "source": [
    "display(Math('\\\\sigma = \\\\mu\\\\times\\\\sqrt{5x+}'))"
   ]
  },
  {
   "cell_type": "code",
   "execution_count": 183,
   "id": "bc8268bf-7a0b-4317-9cdf-0c60d189342c",
   "metadata": {},
   "outputs": [
    {
     "data": {
      "text/latex": [
       "$\\displaystyle x_{mm} + y^{n+2k-15}$"
      ],
      "text/plain": [
       "<IPython.core.display.Math object>"
      ]
     },
     "metadata": {},
     "output_type": "display_data"
    }
   ],
   "source": [
    "display(Math('x_{mm} + y^{n+2k-15}'))"
   ]
  },
  {
   "cell_type": "markdown",
   "id": "668db7c5-307e-44a6-8590-6e9a55ddef2f",
   "metadata": {},
   "source": [
    "# this is a markdowm cell"
   ]
  },
  {
   "cell_type": "code",
   "execution_count": null,
   "id": "6b70db33-e04b-4e72-9171-adc5de6f4647",
   "metadata": {},
   "outputs": [],
   "source": []
  }
 ],
 "metadata": {
  "kernelspec": {
   "display_name": "Python 3 (ipykernel)",
   "language": "python",
   "name": "python3"
  },
  "language_info": {
   "codemirror_mode": {
    "name": "ipython",
    "version": 3
   },
   "file_extension": ".py",
   "mimetype": "text/x-python",
   "name": "python",
   "nbconvert_exporter": "python",
   "pygments_lexer": "ipython3",
   "version": "3.12.4"
  }
 },
 "nbformat": 4,
 "nbformat_minor": 5
}
